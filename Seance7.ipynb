{
  "nbformat": 4,
  "nbformat_minor": 0,
  "metadata": {
    "kernelspec": {
      "display_name": "Python 3",
      "language": "python",
      "name": "python3"
    },
    "language_info": {
      "codemirror_mode": {
        "name": "ipython",
        "version": 3
      },
      "file_extension": ".py",
      "mimetype": "text/x-python",
      "name": "python",
      "nbconvert_exporter": "python",
      "pygments_lexer": "ipython3",
      "version": "3.7.6"
    },
    "colab": {
      "name": "Seance7.ipynb",
      "provenance": [],
      "collapsed_sections": []
    }
  },
  "cells": [
    {
      "cell_type": "markdown",
      "metadata": {
        "id": "vmSMqA8xcVRT"
      },
      "source": [
        "En utilisant numpy:"
      ]
    },
    {
      "cell_type": "markdown",
      "metadata": {
        "id": "fuiBmvlhcVRT"
      },
      "source": [
        "Ex 1 :Addition\n",
        "Écrire un programme pour lire les éléments de deux matrices et ajoutez les deux matrices dans la troisième.\n",
        "\n",
        "La somme de deux matrices de taille (m,n), $(A_{ij}) et (B_{ij}) notée $A+B$  est à nouveau une matrice (C_{ij}) de taille (m,n), obtenue en additionnant les éléments correspondants: $c_{ij}=a_{ij}+b_{ij}$\n"
      ]
    },
    {
      "cell_type": "code",
      "metadata": {
        "colab": {
          "base_uri": "https://localhost:8080/"
        },
        "id": "BgtyrUmccVRU",
        "outputId": "fbe0af32-7c70-4c6e-9d76-637a436bf9ac"
      },
      "source": [
        "import numpy as n\n",
        " \n",
        "A = n.array([ [4, 2, 8], [-50, -2, 64] ])\n",
        "B = n.array([ [-38, -8, 4], [12, 31, 15] ])\n",
        " \n",
        "C= A + B\n",
        "print(\"A = \\n\", A)\n",
        "print(\"B = \\n\", B)\n",
        "print(\"C = A + B = \\n\", C)"
      ],
      "execution_count": 11,
      "outputs": [
        {
          "output_type": "stream",
          "text": [
            "A = \n",
            " [[  4   2   8]\n",
            " [-50  -2  64]]\n",
            "B = \n",
            " [[-38  -8   4]\n",
            " [ 12  31  15]]\n",
            "C = A + B = \n",
            " [[-34  -6  12]\n",
            " [-38  29  79]]\n"
          ],
          "name": "stdout"
        }
      ]
    },
    {
      "cell_type": "markdown",
      "metadata": {
        "id": "U7HKGX-FcVRU"
      },
      "source": [
        "Ex2 :Multiplication\n",
        "Écrire un programme pour lire les éléments de deux matrices, puis multipliez les deux matrices dans la troisième.\n",
        "\n",
        "Deux matrices ne peuvent être multipliées que si le nombre de colonnes de la première matrice est le même que le nombre de lignes de la seconde matrice.\n",
        "\n",
        "Si $ A=(a_{ij})$ est une matrice de taille (m,n), $ B=(b_{ij})$ et est une matrice de taille (n,p), alors leur produit, noté $AB=(c_{ij})$ est une matrice de taille (m,p) définie par :\n",
        "$$\\forall i,j : c_{ij}=\\sum_{k=i}^{n} a_{ik}*b_{kj}$$"
      ]
    },
    {
      "cell_type": "code",
      "metadata": {
        "colab": {
          "base_uri": "https://localhost:8080/"
        },
        "id": "HOX9Nb71cVRV",
        "outputId": "e4dac25e-ab2c-4981-aed4-5497b20a3310"
      },
      "source": [
        "import numpy as n\n",
        "\n",
        "A = np.array([ [7, 4, 15], [9, -4, -23], [31, 1, -6] ])\n",
        "B = np.array([ [2, 3, -13], [32, 17, 44], [8, 1, -12] ])\n",
        " \n",
        "C = A.dot(B)\n",
        " \n",
        "print(\"A = \\n\", A)\n",
        "print(\"B = \\n\", B)\n",
        "print(\"C = A * B = \\n\", C)"
      ],
      "execution_count": 10,
      "outputs": [
        {
          "output_type": "stream",
          "text": [
            "A = \n",
            " [[  7   4  15]\n",
            " [  9  -4 -23]\n",
            " [ 31   1  -6]]\n",
            "B = \n",
            " [[  2   3 -13]\n",
            " [ 32  17  44]\n",
            " [  8   1 -12]]\n",
            "C = A * B = \n",
            " [[ 262  104  -95]\n",
            " [-294  -64  -17]\n",
            " [  46  104 -287]]\n"
          ],
          "name": "stdout"
        }
      ]
    },
    {
      "cell_type": "markdown",
      "metadata": {
        "id": "aiFkNKDbcVRV"
      },
      "source": [
        "Ex 3: Matrice de Markov\n",
        "\n",
        "Une matrice de Markov est une matrice carrée dont chaque élément est un réel compris entre 0 et 1 et dont la somme des éléments de chaque ligne vaut 1. Cela correspond, en probabilité, à la matrice de transition d'une chaîne de Markov finie.\n",
        "\n",
        "Une matrice est dite bistochastique (ou doublement stochastique) si la somme des éléments de chaque ligne et de chaque colonne vaut 1.\n",
        "\n",
        "1. Ecrire une fonction eststochastique(P) qui permet de vérifier est ce que la matrice P est stochastique ou non\n",
        "2. Ecrire une fonction estbistochastique(P) qui permet de vérifier est ce que la matrice P est bistochastique ou non\n",
        "3. Ecrire une fonction vecteurstable(G, h) qui permet de vérifier est ce que h est un vecteur stable de G ou non\n",
        "\n"
      ]
    },
    {
      "cell_type": "code",
      "metadata": {
        "id": "y3oQuZAzcVRV"
      },
      "source": [
        "import numpy as n\n",
        "\n",
        "def eststochastique(P):\n",
        "    nb_lignes = len(P)\n",
        "    nb_col = len(P[0])\n",
        "    somme = 0\n",
        "    isStochas = True\n",
        "    for i in range(nb_lignes):\n",
        "        for j in range(nb_col):\n",
        "            somme = somme + P[i][j]\n",
        "        if somme > 1:\n",
        "            isStochas = False\n",
        "    return isStochas\n",
        " \n",
        " \n",
        "def estbistochastique(P):\n",
        "    nb_lignes = len(P)\n",
        "    nb_col = len(P[0])\n",
        "    somme = 0\n",
        "    isBistochas = True\n",
        "    isStochas = eststochastique(P)\n",
        "    if (isStochas == True):\n",
        "      for i in range(nb_col):\n",
        "        for j in range(nb_lignes):\n",
        "            somme = somme + P[i][j]\n",
        "        if somme > 1:\n",
        "            isBistochas = False\n",
        "    return isBistochas\n",
        " \n",
        " \n",
        "def vecteurstable(G, h):\n",
        "    nb_lignes = len(G)\n",
        "    nb_col = len(G[0])\n",
        "    somme = 0\n",
        "    isStochas = eststochastique(P)\n",
        "    isStable = True\n",
        "    if (isStochas == True):\n",
        "        for j in range(nb_col):\n",
        "            s = 0\n",
        "            for i in range(nb_lignes):\n",
        "                somme = somme + h[i]*G[i][j]\n",
        "            if somme != h[j]:\n",
        "                isStable = False\n",
        "    else:\n",
        "        isStable = False\n",
        "    return isStable"
      ],
      "execution_count": 9,
      "outputs": []
    },
    {
      "cell_type": "markdown",
      "metadata": {
        "id": "7zBCr1WScVRV"
      },
      "source": [
        "Ex 4: Transposer\n",
        "\n",
        "Programmer une fonction qui, étant donné une matrice à deux dimensions A, retourne lamatrice B dont la première colonne est la première ligne de A, la seconde la deuxième ligne de A, etc. B s’appelle la transposée de A."
      ]
    },
    {
      "cell_type": "code",
      "metadata": {
        "colab": {
          "base_uri": "https://localhost:8080/"
        },
        "id": "i6g0gdNlcVRV",
        "outputId": "c600b688-84ab-4165-da54-03378d78cf12"
      },
      "source": [
        "import numpy as n\n",
        " \n",
        "Mat1 = n.array([ [74, 56], [24, 770]])\n",
        "\n",
        "Mat2 = Mat1.transpose()\n",
        " \n",
        "print(\"A = \\n\", Mat1)\n",
        "print(\"B la transposée de A = \\n\", Mat2)"
      ],
      "execution_count": 14,
      "outputs": [
        {
          "output_type": "stream",
          "text": [
            "A = \n",
            " [[ 74  56]\n",
            " [ 24 770]]\n",
            "B la transposée de A = \n",
            " [[ 74  24]\n",
            " [ 56 770]]\n"
          ],
          "name": "stdout"
        }
      ]
    },
    {
      "cell_type": "markdown",
      "metadata": {
        "id": "qwARsrV_cVRV"
      },
      "source": [
        "Ex 5: Permutations\n",
        "1. $M$ désignant une matrice quelconque d’entiers à $l_i$ lignes et $co$ colonnes, $n$ un entier quelconque, programmer une fonction qui retourne la matrice $Sortie$ qui empile verticalement les $co+1$ matrices obtenues en adjoignant à $M$ une colonne $A$ à $li$ lignes dont tousles éléments sont égaux à $n$, $A$ étant placée d’abord devant $M$, puis entre la première et deuxième colonne de $M^a$,etc, jusqu’à ce que $A$ devienne sa dernière colonne. La matriceobtenue  aura $co+1$ colonnes et $(n+1)$ $li$ lignes\n",
        "\n",
        "2. Écrire toutes les permutations de(1, ..., n)"
      ]
    }
  ]
}